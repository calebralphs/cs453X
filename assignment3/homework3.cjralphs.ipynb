{
 "cells": [
  {
   "cell_type": "code",
   "execution_count": 1,
   "metadata": {
    "collapsed": true
   },
   "outputs": [],
   "source": [
    "import numpy as np\n",
    "import math\n",
    "from skimage.transform import resize, rotate\n",
    "import matplotlib.pyplot as plt"
   ]
  },
  {
   "cell_type": "code",
   "execution_count": 44,
   "metadata": {
    "collapsed": false
   },
   "outputs": [
    {
     "name": "stdout",
     "output_type": "stream",
     "text": [
      "Epoch 481 training loss: 0.019883266236342057\n",
      "Epoch 482 training loss: 0.02046899055591905\n",
      "Epoch 483 training loss: 0.01749328534548663\n",
      "Epoch 484 training loss: 0.01927340971231711\n",
      "Epoch 485 training loss: 0.019724824778073066\n",
      "Epoch 486 training loss: 0.017591408987556324\n",
      "Epoch 487 training loss: 0.01963604672293619\n",
      "Epoch 488 training loss: 0.019159741899054374\n",
      "Epoch 489 training loss: 0.019811914063746983\n",
      "Epoch 490 training loss: 0.017892183636987025\n",
      "Epoch 491 training loss: 0.019226382995180008\n",
      "Epoch 492 training loss: 0.02038256530538376\n",
      "Epoch 493 training loss: 0.018991978912120292\n",
      "Epoch 494 training loss: 0.01883651529287454\n",
      "Epoch 495 training loss: 0.017945471718375884\n",
      "Epoch 496 training loss: 0.020391201931325157\n",
      "Epoch 497 training loss: 0.019076354784223152\n",
      "Epoch 498 training loss: 0.019011937526815317\n",
      "Epoch 499 training loss: 0.018814547537283594\n",
      "Epoch 500 training loss: 0.019672334236013434\n",
      "Testing Accuracy 0.0\n",
      "Testing Loss (mean) 0.0005176130061706009\n"
     ]
    }
   ],
   "source": [
    "def append1s (X):\n",
    "    b = np.ones((X.shape[0], 1))\n",
    "    Xwithb = np.append(X, b, axis = 1)\n",
    "    Xtilde = Xwithb\n",
    "    return Xtilde\n",
    "\n",
    "def shuffleData(X, y):\n",
    "    shuffle = np.random.permutation(np.shape(X)[0])\n",
    "    shuffled_X = X[shuffle]\n",
    "    shuffled_y = y[shuffle]\n",
    "    return shuffled_X, shuffled_y\n",
    "\n",
    "def createBatches(X, y, ntilde):\n",
    "    num_batches = math.floor(np.shape(X)[0] / ntilde)\n",
    "    X_batches = np.split(X, num_batches)\n",
    "    y_batches = np.split(y, num_batches)\n",
    "    return np.array(X_batches), np.array(y_batches)\n",
    "        \n",
    "def softmax(X, w):\n",
    "    z = np.dot(X, w)\n",
    "    exp_z = np.exp(z)\n",
    "    sum_exp_z = exp_z.sum(axis = 1)\n",
    "    norm_exp_z = (exp_z.T / sum_exp_z).T\n",
    "    return norm_exp_z\n",
    "\n",
    "def oneHotEncode(y):\n",
    "    onehot_y = np.zeros(np.shape(y))\n",
    "    encoded_idx = np.argmax(y, axis = 1)\n",
    "    idx = np.arange(np.shape(y)[0])\n",
    "    onehot_y[idx, encoded_idx] = 1\n",
    "    return onehot_y\n",
    "\n",
    "def crossEntropy(y, yhat):\n",
    "    return -1 / np.shape(y)[0] * np.sum(y * np.log(yhat), axis = 1)\n",
    "\n",
    "def gradfCE(X, y, w):\n",
    "    yhat = softmax(X, w)\n",
    "    gradient = -1 / np.shape(X)[0] * np.dot(X.T, y - yhat)\n",
    "    return gradient\n",
    "\n",
    "def gradDescent(X, y, epochs = 500, ntilde = 100, alpha = .1):\n",
    "    sigma = .1\n",
    "    w = sigma * np.random.randn(np.shape(X)[1], 10)\n",
    "    for epoch in range(epochs):\n",
    "        X, y = shuffleData(X, y)\n",
    "        X_batches, y_batches = createBatches(X, y, 100)\n",
    "        printBool = True\n",
    "        for X_batch, y_batch in zip(X_batches, y_batches):\n",
    "            z = softmax(X_batch, w)\n",
    "            loss = crossEntropy(y_batch, z)\n",
    "            gradient = gradfCE(X_batch, y_batch, w)\n",
    "            w -= alpha * gradient\n",
    "            if printBool and epoch >= 480:\n",
    "                printBool = False\n",
    "                print(\"Epoch\", epoch + 1, \"training loss:\", np.mean(loss))\n",
    "    return w\n",
    "\n",
    "def predictClassifications(X, y, w):\n",
    "    z = np.dot(X, w)\n",
    "    yhat = np.zeros(np.shape(z))\n",
    "    encoded_idx = z.argmax(axis = 1)\n",
    "    yhat[np.arange(np.shape(z)[0]), encoded_idx] = 1\n",
    "    return yhat\n",
    "\n",
    "def accuracy(y, yhat):\n",
    "    y_idx = [np.where(i == 1)[0][0] for i in y]\n",
    "    yhat_idx = [np.where(i == 1)[0][0] for i in yhat]\n",
    "    return np.mean(yhat_idx == y_idx)\n",
    "\n",
    "if __name__ == \"__main__\":\n",
    "    # Load Data\n",
    "    images_test = np.load('small_mnist_test_images.npy')\n",
    "    images_train = np.load('small_mnist_train_images.npy')\n",
    "    y_te = np.load('small_mnist_test_labels.npy')\n",
    "    y_tr = np.load('small_mnist_train_labels.npy')\n",
    "    X_te = append1s(images_test)\n",
    "    X_tr = append1s(images_test)\n",
    "    \n",
    "    #X_noise = append1s(addRandomNoise(images_train))\n",
    "    #X_translate = append1s(translateRandom(images_train))\n",
    "    #X_zoom = append1s(zoomOut(images_train))\n",
    "    #X_rotate = append1s(rotate15(images_train))\n",
    "    #X_all = np.concatenate((X_tr, X_noise, X_translate, X_zoom, X_rotate))\n",
    "    #y_all = np.concatenate((y_tr, y_tr, y_tr, y_tr, y_tr))\n",
    "    \n",
    "    w = gradDescent(X_tr, y_tr)\n",
    "    yhat = predictClassifications(X_te, y_te, w)\n",
    "    acc = accuracy(y_te, yhat)\n",
    "    print(\"Testing Accuracy\", acc)\n",
    "    print(\"Testing Loss (mean)\", np.mean(crossEntropy(y_te, softmax(X_te, w))))\n",
    "    #showAugmentations(images_train, 0)"
   ]
  },
  {
   "cell_type": "code",
   "execution_count": 3,
   "metadata": {
    "collapsed": false
   },
   "outputs": [],
   "source": [
    "def addRandomNoise(X):\n",
    "    mask = np.random.randn(X.shape[0], X.shape[1]) * .01\n",
    "    X_noise = X + mask\n",
    "    return X_noise\n",
    "\n",
    "def translateRandom(X):\n",
    "    m = 5000\n",
    "    n = 28\n",
    "    X = X.reshape(m, n, n)\n",
    "    translations = np.random.randint(3, size = 4) + 1\n",
    "    for i in range(np.shape(X)[0]):\n",
    "        # left\n",
    "        X[i] = np.concatenate((X[i, :, translations[0]:], np.zeros((n, translations[0]))), axis = 1)\n",
    "        # right\n",
    "        X[i] = np.concatenate((np.zeros((n, translations[1])), X[i, :, :-translations[1]]), axis = 1)\n",
    "        # up\n",
    "        X[i] = np.concatenate((np.zeros((translations[2], n)), X[i, translations[2]:]), axis = 0)\n",
    "        # down\n",
    "        X[i] = np.concatenate((X[i, :-translations[3]], np.zeros((translations[3], n))), axis = 0)\n",
    "    X = X.reshape(5000, n * n)\n",
    "    return X\n",
    "\n",
    "def zoomOut(X):\n",
    "    m = 5000\n",
    "    n = 28\n",
    "    X = X.reshape(m, n, n)\n",
    "    pixelZoom = np.random.randint(2) + 1\n",
    "    new_n = n + pixelZoom * 2\n",
    "    for i in range(np.shape(X)[0]):\n",
    "        temp = X[i]\n",
    "        temp = np.concatenate((np.zeros((pixelZoom, n)), temp, np.zeros((pixelZoom, n))), axis = 0)\n",
    "        temp = np.concatenate((np.zeros((new_n, pixelZoom)), temp, np.zeros((new_n, pixelZoom))), axis = 1)\n",
    "        temp = resize(temp, (n, n))\n",
    "        X[i] = temp\n",
    "    X = X.reshape(5000, n * n)\n",
    "    return X\n",
    "\n",
    "def rotate15(X):\n",
    "    m = 5000\n",
    "    n = 28\n",
    "    X = X.reshape(m, n, n)\n",
    "    angle = np.random.randint(15) - 15\n",
    "    for i in range(np.shape(X)[0]):\n",
    "        temp = rotate(X[i], angle)\n",
    "        X[i]= temp\n",
    "    X = X.reshape(5000, n * n)\n",
    "    return X\n",
    "\n",
    "def showAugmentations(X, idx):\n",
    "    plt.imshow(X[idx].reshape((28, 28)))\n",
    "    plt.title('original')\n",
    "    plt.show()\n",
    "    plt.imshow(addRandomNoise(X)[idx].reshape((28, 28)))\n",
    "    plt.title('noise')\n",
    "    plt.show()\n",
    "    plt.imshow(translateRandom(X)[idx].reshape((28, 28)))\n",
    "    plt.title('translate')\n",
    "    plt.show()\n",
    "    plt.imshow(zoomOut(X)[idx].reshape((28, 28)))\n",
    "    plt.title('zoom')\n",
    "    plt.show()\n",
    "    plt.imshow(rotate15(X)[idx].reshape((28, 28)))\n",
    "    plt.title('rotate')\n",
    "    plt.show()"
   ]
  },
  {
   "cell_type": "code",
   "execution_count": 42,
   "metadata": {
    "collapsed": false
   },
   "outputs": [
    {
     "name": "stdout",
     "output_type": "stream",
     "text": [
      "0.0\n"
     ]
    }
   ],
   "source": [
    "predicted = predictClassifications(X_tr, y_tr, w)\n",
    "accriate = accuracy(y_tr, predicted)\n",
    "print(accriate)"
   ]
  },
  {
   "cell_type": "code",
   "execution_count": null,
   "metadata": {
    "collapsed": true
   },
   "outputs": [],
   "source": []
  },
  {
   "cell_type": "code",
   "execution_count": null,
   "metadata": {
    "collapsed": true
   },
   "outputs": [],
   "source": []
  }
 ],
 "metadata": {
  "kernelspec": {
   "display_name": "Python [conda env:Anaconda3]",
   "language": "python",
   "name": "conda-env-Anaconda3-py"
  },
  "language_info": {
   "codemirror_mode": {
    "name": "ipython",
    "version": 3
   },
   "file_extension": ".py",
   "mimetype": "text/x-python",
   "name": "python",
   "nbconvert_exporter": "python",
   "pygments_lexer": "ipython3",
   "version": "3.6.5"
  }
 },
 "nbformat": 4,
 "nbformat_minor": 2
}

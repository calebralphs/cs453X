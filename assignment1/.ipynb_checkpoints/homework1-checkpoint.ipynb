{
 "cells": [
  {
   "cell_type": "code",
   "execution_count": 45,
   "metadata": {
    "collapsed": true
   },
   "outputs": [],
   "source": [
    "import numpy as np\n",
    "\n",
    "def problem1 (A, B):\n",
    "    return A + B\n",
    "\n",
    "def problem2 (A, B, C):\n",
    "    return np.dot(A, B) - C\n",
    "\n",
    "def problem3 (A, B, C):\n",
    "    return A * B + C.T\n",
    "\n",
    "def problem4 (x, y):\n",
    "    return np.dot(x.T, y)\n",
    "\n",
    "def problem5 (A):\n",
    "    return np.zeros(A.shape)\n",
    "\n",
    "def problem6 (A):\n",
    "    return np.ones(len(A))\n",
    "\n",
    "def problem7 (A, alpha):\n",
    "    return A + alpha * np.eye(len(A))\n",
    "\n",
    "def problem8 (A, i, j):\n",
    "    return A[i, j]\n",
    "\n",
    "def problem9 (A, i):\n",
    "    return np.sum(A[i])\n",
    "\n",
    "def problem10 (A, c, d):\n",
    "    return np.mean(A[(a >= c) & (a <= d)])\n",
    "\n",
    "def problem11 (A, k):\n",
    "    eig_vals, eig_vecs = np.linalg.eig(A)\n",
    "    eig_vals_idx = np.argsort(eig_vals)[::-1][:k]\n",
    "    return eig_vecs[eig_vals_idx]\n",
    "\n",
    "def problem12 (A, x):\n",
    "    return np.linalg.solve(A, x)\n",
    "\n",
    "def problem13 (A, x):\n",
    "    return np.linalg.solve(A.T, x.T).T"
   ]
  },
  {
   "cell_type": "code",
   "execution_count": 197,
   "metadata": {
    "collapsed": false
   },
   "outputs": [
    {
     "name": "stdout",
     "output_type": "stream",
     "text": [
      "0 [487 415] [20, 7, 17, 7] 0.7105\n",
      "1 [293 253] [12, 5, 10, 5] 0.7155\n",
      "2 [497 401] [20, 17, 16, 17] 0.755\n",
      "3 [283 300] [11, 19, 12, 19] 0.7645\n",
      "4 [467 343] [19, 11, 14, 11] 0.7825\n"
     ]
    },
    {
     "data": {
      "image/png": "[encoded data removed]",
      "text/plain": [
       "<Figure size 432x288 with 1 Axes>"
      ]
     },
     "metadata": {},
     "output_type": "display_data"
    },
    {
     "name": "stdout",
     "output_type": "stream",
     "text": [
      "[array([487, 415]), array([293, 253]), array([497, 401]), array([283, 300]), array([467, 343])] [0.7105, 0.7155, 0.755, 0.7645, 0.7825]\n"
     ]
    }
   ],
   "source": [
    "import numpy as np\n",
    "import matplotlib.patches as patches\n",
    "import matplotlib.pyplot as plt\n",
    "import math\n",
    "\n",
    "def fPC (y, yhat):\n",
    "    return np.count_nonzero(np.equal(y, np.greater(yhat, [.5] * len(y)))) / len(y)\n",
    "\n",
    "# decidied to use alternate method of measuring accuracy of predictors becuase this was unefficient\n",
    "def measureAccuracyOfPredictors (predictors, X, y):\n",
    "    featurePermLabels = []\n",
    "    for pred in predictors:\n",
    "        featurePermLabels.append(X[:, pred[0]] > X[:, pred[1]])\n",
    "    return fPC(y, np.sum(featurePermLabels, axis = 0) / len(predictors))\n",
    "\n",
    "def stepwiseRegression (trainingFaces, trainingLabels, testingFaces, testingLabels):\n",
    "    vectTrainingFaces = vectorizeFaceMatrix(trainingFaces) # vectorized training faces\n",
    "    vectTestingFaces = vectorizeFaceMatrix(testingFaces) # vectorized testing faces\n",
    "    # permutations of pixel pair idx\n",
    "    pixelIdxPerms = np.array(np.meshgrid(list(range(576)), list(range(576)))).T.reshape(-1,2)\n",
    "    \n",
    "    # arrays to keep track of information on the best features for efficiency\n",
    "    bestFeatures = []\n",
    "    bestFeature_fPCs = []\n",
    "    bestFeaturePermLabels = []\n",
    "    bestPixels = []\n",
    "    \n",
    "    for m in range(5):\n",
    "        # array to keep track of feature's fPCs\n",
    "        predFeature_fPCs = []\n",
    "        for pixelPairIdx in pixelIdxPerms:\n",
    "            permLabels = vectTrainingFaces[:, pixelPairIdx[0]] > vectTrainingFaces[:, pixelPairIdx[1]]\n",
    "            testingPermLabels = np.sum(bestFeaturePermLabels + [permLabels], axis = 0) / (m + 1)\n",
    "            predFeature_fPCs.append(fPC(trainingLabels, testingPermLabels))\n",
    "        \n",
    "        bestFeatureIdx = np.argmax(predFeature_fPCs)\n",
    "        bestFeature = pixelIdxPerms[bestFeatureIdx]\n",
    "        pixelIdxPerms = np.delete(pixelIdxPerms, bestFeatureIdx, axis = 0)\n",
    "        bestFeature_fPC = predFeature_fPCs[bestFeatureIdx]\n",
    "        bestFeaturePermLabel = vectTrainingFaces[:, bestFeature[0]] > vectTrainingFaces[:, bestFeature[1]]\n",
    "        \n",
    "        bestFeatures.append(bestFeature)\n",
    "        bestFeature_fPCs.append(bestFeature_fPC)\n",
    "        bestFeaturePermLabels.append(bestFeaturePermLabel)\n",
    "        r1, c1, r2, c2 = pixelIdxFromVectIdx(bestFeature)\n",
    "        print(m, bestFeature, [r1, c1, r2, c2], bestFeature_fPC)\n",
    "        bestPixels.append([r1, c1, r2, c2])\n",
    "        \n",
    "    show = True\n",
    "    if show:\n",
    "        # Show an arbitrary test image in grayscale\n",
    "        im = testingFaces[0,:,:]\n",
    "        fig,ax = plt.subplots(1)\n",
    "        ax.imshow(im, cmap='gray')\n",
    "        colors = ['r', 'b', 'y', 'g', 'm']\n",
    "        for i in range(5):\n",
    "            r1, c1, r2, c2 = bestPixels[i]\n",
    "            # Show r1,c1\n",
    "            rect = patches.Rectangle((c1,r1),1,1,linewidth=2,edgecolor=colors[i],facecolor='none')\n",
    "            ax.add_patch(rect)\n",
    "            # Show r2,c2\n",
    "            rect = patches.Rectangle((c2,r2),1,1,linewidth=2,edgecolor=colors[i],facecolor='none')\n",
    "            ax.add_patch(rect)\n",
    "        # Display the merged result\n",
    "        plt.show() \n",
    "    print(bestFeatures, bestFeature_fPCs)\n",
    "    return measureAccuracyOfPredictors(bestFeatures, vectTestingFaces, testingLabels)\n",
    "            \n",
    "def loadData (which):\n",
    "    faces = np.load(\"{}ingFaces.npy\".format(which))\n",
    "    faces = faces.reshape(-1, 24, 24)  # Reshape from 576 to 24x24\n",
    "    labels = np.load(\"{}ingLabels.npy\".format(which))\n",
    "    return faces, labels\n",
    "\n",
    "def vectorizeFaceMatrix(faces):\n",
    "    return faces.reshape(-1, 576)\n",
    "\n",
    "def pixelIdxFromVectIdx(idxPair):\n",
    "    return math.floor(idxPair[0] / 24), math.floor(idxPair[0] % 24), math.floor(idxPair[1] / 24), math.floor(idxPair[0] % 24)\n",
    "\n",
    "def sampleTestingAccuracy(trainingFaces, trainingLabels, testingFaces, testingLabels):\n",
    "    sampleTestingAccuracies = []\n",
    "    for n in np.array(list(range(1, 6))) * 400:\n",
    "        sampleAccuracy = stepwiseRegression(trainingFaces[:n], trainingLabels[:n], testingFaces[:n], testingLabels[:n])\n",
    "        sampleTestingAccuracies.append(sampleAccuracy)\n",
    "        print(n, sampleAccuracy)\n",
    "    return sampleTestingAccuracies\n",
    "if __name__ == \"__main__\":\n",
    "    testingFaces, testingLabels = loadData(\"test\")\n",
    "    trainingFaces, trainingLabels = loadData(\"train\")\n",
    "    testingAccuracy = stepwiseRegression(trainingFaces, trainingLabels, testingFaces, testingLabels)\n",
    "    #sampleTestingAccuracies = sampleTestingAccuracy(trainingFaces, trainingLabels, testingFaces, testingLabels)"
   ]
  },
  {
   "cell_type": "code",
   "execution_count": null,
   "metadata": {
    "collapsed": true
   },
   "outputs": [],
   "source": []
  }
 ],
 "metadata": {
  "kernelspec": {
   "display_name": "Python [conda env:Anaconda3]",
   "language": "python",
   "name": "conda-env-Anaconda3-py"
  },
  "language_info": {
   "codemirror_mode": {
    "name": "ipython",
    "version": 3
   },
   "file_extension": ".py",
   "mimetype": "text/x-python",
   "name": "python",
   "nbconvert_exporter": "python",
   "pygments_lexer": "ipython3",
   "version": "3.6.5"
  }
 },
 "nbformat": 4,
 "nbformat_minor": 2
}
